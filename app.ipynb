{
 "cells": [
  {
   "cell_type": "code",
   "execution_count": null,
   "metadata": {},
   "outputs": [],
   "source": [
    "from vaderSentiment.vaderSentiment import SentimentIntensityAnalyzer\n",
    "while True:\n",
    "    text = input(\"Enter a text (type STOP to exit program): \")\n",
    "    analyzer = SentimentIntensityAnalyzer()\n",
    "    z = analyzer.polarity_scores(text)\n",
    "    compound = z['compound']\n",
    "    if compound >= 0.5:\n",
    "        print(\"Textual Sentiment: Positive\")\n",
    "    elif (compound > -0.5) and (compound < 0.5):\n",
    "        print(\"textual Sentiment: Neutral\")\n",
    "    elif compound <= -0.5:\n",
    "        print(\"Textual Sentiment: Negative\")\n",
    "    else:\n",
    "        print(\"Invalid input\")\n",
    "    "
   ]
  }
 ],
 "metadata": {
  "kernelspec": {
   "display_name": "env",
   "language": "python",
   "name": "python3"
  },
  "language_info": {
   "codemirror_mode": {
    "name": "ipython",
    "version": 3
   },
   "file_extension": ".py",
   "mimetype": "text/x-python",
   "name": "python",
   "nbconvert_exporter": "python",
   "pygments_lexer": "ipython3",
   "version": "3.12.2"
  }
 },
 "nbformat": 4,
 "nbformat_minor": 2
}
